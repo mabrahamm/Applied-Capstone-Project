{
    "cells": [
        {
            "cell_type": "markdown",
            "metadata": {
                "collapsed": true
            },
            "source": "# The Battle of the Neighborhoods - Week 2 - Boroughs of New York City"
        },
        {
            "cell_type": "markdown",
            "metadata": {},
            "source": "## Part 5a Segmenting and Clustering Neighborhoods - Brooklyn and Manhattan"
        },
        {
            "cell_type": "markdown",
            "metadata": {},
            "source": "## Introduction\u00b6"
        },
        {
            "cell_type": "markdown",
            "metadata": {},
            "source": "In this section of the capstone project, we will use the Foursquare API to explore neighborhoods in Brooklyn and Manhattan. We will use the explore function to get the most common venue categories in each neighborhood, and then use this feature to group the neighborhoods into clusters. We will use the k-means clustering algorithm to complete this task. Finally, we will use the Folium library to visualize the neighborhoods in Brooklyn and Manhattan and their emerging clusters."
        },
        {
            "cell_type": "markdown",
            "metadata": {},
            "source": "### Download and explore dataset"
        },
        {
            "cell_type": "code",
            "execution_count": null,
            "metadata": {},
            "outputs": [
                {
                    "name": "stdout",
                    "output_type": "stream",
                    "text": "Solving environment: done\n\n## Package Plan ##\n\n  environment location: /opt/conda/envs/Python36\n\n  added / updated specs: \n    - geopy\n\n\nThe following packages will be downloaded:\n\n    package                    |            build\n    ---------------------------|-----------------\n    ca-certificates-2020.6.20  |       hecda079_0         145 KB  conda-forge\n    certifi-2020.6.20          |   py36h9f0ad1d_0         151 KB  conda-forge\n    openssl-1.1.1h             |       h516909a_0         2.1 MB  conda-forge\n    geographiclib-1.50         |             py_0          34 KB  conda-forge\n    python_abi-3.6             |          1_cp36m           4 KB  conda-forge\n    geopy-2.0.0                |     pyh9f0ad1d_0          63 KB  conda-forge\n    ------------------------------------------------------------\n                                           Total:         2.5 MB\n\nThe following NEW packages will be INSTALLED:\n\n    geographiclib:   1.50-py_0          conda-forge\n    geopy:           2.0.0-pyh9f0ad1d_0 conda-forge\n    python_abi:      3.6-1_cp36m        conda-forge\n\nThe following packages will be UPDATED:\n\n    certifi:         2020.6.20-py36_0               --> 2020.6.20-py36h9f0ad1d_0 conda-forge\n    openssl:         1.1.1g-h7b6447c_0              --> 1.1.1h-h516909a_0        conda-forge\n\nThe following packages will be DOWNGRADED:\n\n    ca-certificates: 2020.7.22-0                    --> 2020.6.20-hecda079_0     conda-forge\n\n\nDownloading and Extracting Packages\nca-certificates-2020 | 145 KB    | ##################################### | 100% \ncertifi-2020.6.20    | 151 KB    | ##################################### | 100% \nopenssl-1.1.1h       | 2.1 MB    | ##################################### | 100% \ngeographiclib-1.50   | 34 KB     | ##################################### | 100% \npython_abi-3.6       | 4 KB      | ##################################### | 100% \ngeopy-2.0.0          | 63 KB     | ##################################### | 100% \nPreparing transaction: done\nVerifying transaction: done\nExecuting transaction: done\nSolving environment: - "
                }
            ],
            "source": "\nimport numpy as np # library to handle data in a vectorized manner\n\nimport pandas as pd # library for data analsysis\npd.set_option('display.max_columns', None)\npd.set_option('display.max_rows', None)\n\nimport json # library to handle JSON files\n\n!conda install -c conda-forge geopy --yes # uncomment this line if you haven't completed the Foursquare API lab\nfrom geopy.geocoders import Nominatim # convert an address into latitude and longitude values\n\nimport requests # library to handle requests\nfrom pandas.io.json import json_normalize # tranform JSON file into a pandas dataframe\n\n# Matplotlib and associated plotting modules\nimport matplotlib.cm as cm\nimport matplotlib.colors as colors\nimport matplotlib.pyplot as plt\n\n# import k-means from clustering stage\nfrom sklearn.cluster import KMeans\n\nfrom sklearn.metrics import silhouette_score\n\n!conda install -c conda-forge folium=0.5.0 --yes # uncomment this line if you haven't completed the Foursquare API lab\nimport folium # map rendering library\n\nprint('Libraries imported.')"
        },
        {
            "cell_type": "markdown",
            "metadata": {},
            "source": "Neighborhood has a total of 5 boroughs and 306 neighborhoods. In order to segement the neighborhoods and explore them, we will essentially need a dataset that contains the 5 boroughs and the neighborhoods that exist in each borough as well as the latitude and logitude coordinates of each neighborhood."
        },
        {
            "cell_type": "markdown",
            "metadata": {},
            "source": "### Load and explore the data"
        },
        {
            "cell_type": "code",
            "execution_count": null,
            "metadata": {},
            "outputs": [],
            "source": "NYC_Geo=pd.read_csv('NYC_GEO.csv')\nprint('Data downloaded!')"
        },
        {
            "cell_type": "code",
            "execution_count": null,
            "metadata": {},
            "outputs": [],
            "source": "NYC_Geo.head()"
        },
        {
            "cell_type": "code",
            "execution_count": null,
            "metadata": {},
            "outputs": [],
            "source": "NYC_Geo['Borough'].value_counts().to_frame()"
        },
        {
            "cell_type": "code",
            "execution_count": null,
            "metadata": {},
            "outputs": [],
            "source": "NYC_Geo.shape"
        },
        {
            "cell_type": "code",
            "execution_count": null,
            "metadata": {},
            "outputs": [],
            "source": "print(NYC_Geo.Borough.unique())"
        },
        {
            "cell_type": "code",
            "execution_count": null,
            "metadata": {},
            "outputs": [],
            "source": "NYC_Geo.isnull().sum()"
        },
        {
            "cell_type": "markdown",
            "metadata": {},
            "source": "### Segmenting and Clustering Neighborhoods - Brooklyn and Manhattan"
        },
        {
            "cell_type": "code",
            "execution_count": null,
            "metadata": {},
            "outputs": [],
            "source": "BM_Geo = NYC_Geo.loc[(NYC_Geo['Borough'] == 'Brooklyn')|(NYC_Geo['Borough'] == 'Manhattan')]\nBM_Geo = BM_Geo.reset_index(drop=True)\nBM_Geo.head()"
        },
        {
            "cell_type": "code",
            "execution_count": null,
            "metadata": {},
            "outputs": [],
            "source": "\nBM_Geo.shape"
        },
        {
            "cell_type": "markdown",
            "metadata": {},
            "source": "### Use geopy library to get the latitude and longitude values of New York City"
        },
        {
            "cell_type": "code",
            "execution_count": null,
            "metadata": {},
            "outputs": [],
            "source": "\nimport time\nstart_time = time.time()\n\naddress = 'New York City, NY'\n\ngeolocator = Nominatim(user_agent=\"Jupyter\")\nlocation = geolocator.geocode(address)\nlatitude = location.latitude\nlongitude = location.longitude\nprint('The geograpical coordinate of New York City are {}, {}.'.format(latitude, longitude))\n\nprint(\"--- %s seconds ---\" % round((time.time() - start_time), 2))"
        },
        {
            "cell_type": "markdown",
            "metadata": {},
            "source": "### Create a map of Brooklyn and Manhattan with neighborhoods superimposed on top"
        },
        {
            "cell_type": "code",
            "execution_count": null,
            "metadata": {},
            "outputs": [],
            "source": "\n# create map of NYC using latitude and longitude values\nmap_BM = folium.Map(location=[latitude, longitude], zoom_start=10)\n\n# add markers to map\nfor lat, lng, borough, neighborhood in zip(BM_Geo['Latitude'], BM_Geo['Longitude'], BM_Geo['Borough'], BM_Geo['Neighborhood']):\n    label = '{}, {}'.format(neighborhood, borough)\n    label = folium.Popup(label, parse_html=True)\n    folium.CircleMarker(\n        [lat, lng],\n        radius=5,\n        popup=label,\n        color='blue',\n        fill=True,\n        fill_color='#3186cc',\n        fill_opacity=0.7,\n        parse_html=False).add_to(map_BM)  \n    \nmap_BM"
        },
        {
            "cell_type": "markdown",
            "metadata": {},
            "source": "### Define Foursquare Credentials and Version"
        },
        {
            "cell_type": "code",
            "execution_count": 1,
            "metadata": {},
            "outputs": [
                {
                    "name": "stdout",
                    "output_type": "stream",
                    "text": "Your credentails:\nCLIENT_ID: USH1JAUVEZHXTWM341UBETGWXX14QX5SIA1GXIXSKBBXH5DF\nCLIENT_SECRET:IQ3VGIJ0ZZUBNT5VMMW1MIICS41JDSJS4KLDKLYSUXVLIJ1K\n"
                }
            ],
            "source": "\nCLIENT_ID = 'USH1JAUVEZHXTWM341UBETGWXX14QX5SIA1GXIXSKBBXH5DF' # your Foursquare ID\nCLIENT_SECRET = 'IQ3VGIJ0ZZUBNT5VMMW1MIICS41JDSJS4KLDKLYSUXVLIJ1K' # your Foursquare Secret\nVERSION = '20181218' # Foursquare API version\n\nprint('Your credentails:')\nprint('CLIENT_ID: ' + CLIENT_ID)\nprint('CLIENT_SECRET:' + CLIENT_SECRET)"
        },
        {
            "cell_type": "markdown",
            "metadata": {},
            "source": "## Explore Neighborhoods in Brooklyn and Manhattan"
        },
        {
            "cell_type": "markdown",
            "metadata": {},
            "source": "### Extract Venues data for each neighborhoods in Brooklyn"
        },
        {
            "cell_type": "code",
            "execution_count": 2,
            "metadata": {},
            "outputs": [],
            "source": "def getNearbyVenues(names, latitudes, longitudes, LIMIT=200, radius=1000):\n    \n    venues_list=[]\n    for name, lat, lng in zip(names, latitudes, longitudes):\n        print(name)\n            \n        # create the API request URL\n        url = 'https://api.foursquare.com/v2/venues/explore?&client_id={}&client_secret={}&v={}&ll={},{}&radius={}&limit={}'.format(\n            CLIENT_ID, \n            CLIENT_SECRET, \n            VERSION, \n            lat, \n            lng, \n            radius, \n            LIMIT)\n            \n        # make the GET request\n        results = requests.get(url).json()[\"response\"]['groups'][0]['items']\n        \n        # return only relevant information for each nearby venue\n        venues_list.append([(\n            name, \n            lat, \n            lng, \n            v['venue']['name'], \n            v['venue']['location']['lat'], \n            v['venue']['location']['lng'],  \n            v['venue']['categories'][0]['name']) for v in results])\n\n    nearby_venues = pd.DataFrame([item for venue_list in venues_list for item in venue_list])\n    nearby_venues.columns = ['Neighborhood', \n                  'Neighborhood Latitude', \n                  'Neighborhood Longitude', \n                  'Venue', \n                  'Venue Latitude', \n                  'Venue Longitude', \n                  'Venue Category']\n    \n    return(nearby_venues)"
        },
        {
            "cell_type": "markdown",
            "metadata": {},
            "source": "### Run the above function on each neighborhood and create a new dataframe called BM_venues"
        },
        {
            "cell_type": "code",
            "execution_count": null,
            "metadata": {},
            "outputs": [],
            "source": "BM_venues = getNearbyVenues(names=BM_Geo['Neighborhood'],\n                                  latitudes=BM_Geo['Latitude'],\n                                  longitudes=BM_Geo['Longitude'],\n                                  LIMIT=200)\n\nprint('The \"BM_venues\" dataframe has {} venues and {} unique venue types.'.format(\n      len(BM_venues['Venue Category']),\n      len(BM_venues['Venue Category'].unique())))\n\nBM_venues.to_csv('BM_venues.csv', sep=',', encoding='UTF8')\nBM_venues.head()\n"
        },
        {
            "cell_type": "markdown",
            "metadata": {},
            "source": "### Download data from BM_venues.csv"
        },
        {
            "cell_type": "code",
            "execution_count": null,
            "metadata": {},
            "outputs": [],
            "source": "colnames = ['Neighborhood', 'Neighborhood Latitude', 'Neighborhood Longitude', 'Venue', 'Venue Latitude', 'Venue Longitude', 'Venue Category']\nBM_venues = pd.read_csv('BM_venues.csv', skiprows=1, names=colnames)\nBM_venues.columns = BM_venues.columns.str.replace(' ', '')\nBM_venues.head()"
        },
        {
            "cell_type": "code",
            "execution_count": null,
            "metadata": {},
            "outputs": [],
            "source": "BM_venues.shape"
        },
        {
            "cell_type": "markdown",
            "metadata": {},
            "source": "### Visualize the BM_Venues data"
        },
        {
            "cell_type": "code",
            "execution_count": null,
            "metadata": {},
            "outputs": [],
            "source": "\ndef Venues_Map(Borough_name, Borough_neighborhoods):\n    \n    # Use geopy library to get the latitude and longitude values \n    geolocator = Nominatim(user_agent=\"Jupyter\")\n    Borough_location = geolocator.geocode(Borough_name) #'Brooklyn, NY'\n    Borough_latitude = Borough_location.latitude\n    Borough_longitude = Borough_location.longitude\n    print('The geographical coordinates of \"{}\" are {}, {}.'.format(Borough_name, Borough_latitude, Borough_longitude))\n    \n    # To verify the number of Boroughs and Neighborhoods in the extracted data\n    print('The \"{}\" dataframe has {} different venue types and {} neighborhoods.'.format(\n          Borough_name,\n          len(Borough_neighborhoods['VenueCategory'].unique()),\n          len(Borough_neighborhoods['Neighborhood'].unique())))\n    \n    # create map of city using latitude and longitude values\n    map_Borough = folium.Map(location=[Borough_latitude, Borough_longitude], zoom_start=10)\n\n    # add markers to map\n    for lat, lng, venue, category in zip(Borough_neighborhoods['VenueLatitude'], Borough_neighborhoods['VenueLongitude'], Borough_neighborhoods['Venue'], Borough_neighborhoods['VenueCategory']):\n        label = '{}, {}'.format(category, venue)\n        label = folium.Popup(label, parse_html=True)\n        folium.CircleMarker(\n            [lat, lng],\n            radius=0.1,\n            popup=label,\n            color='red',\n            fill=True,\n            fill_color='#FF0000',\n            fill_opacity=0.3).add_to(map_Borough)  \n\n    return map_Borough"
        },
        {
            "cell_type": "code",
            "execution_count": null,
            "metadata": {},
            "outputs": [],
            "source": "Venues_Map('New York City, NY', BM_venues)"
        },
        {
            "cell_type": "code",
            "execution_count": null,
            "metadata": {},
            "outputs": [],
            "source": "BM_venues.groupby('VenueCategory')['Venue'].count().sort_values(ascending=False)"
        },
        {
            "cell_type": "markdown",
            "metadata": {},
            "source": "### Check how many venues were returned for each neighborhood"
        },
        {
            "cell_type": "code",
            "execution_count": null,
            "metadata": {},
            "outputs": [],
            "source": "BM_venues.groupby('Neighborhood').count()"
        },
        {
            "cell_type": "markdown",
            "metadata": {},
            "source": "### Find out how many unique categories can be curated from all the returned venues"
        },
        {
            "cell_type": "code",
            "execution_count": null,
            "metadata": {},
            "outputs": [],
            "source": "print('There are {} uniques categories.'.format(len(BM_venues['VenueCategory'].unique())))"
        },
        {
            "cell_type": "markdown",
            "metadata": {},
            "source": "## Analyze Each Neighborhood"
        },
        {
            "cell_type": "code",
            "execution_count": null,
            "metadata": {},
            "outputs": [],
            "source": "# one hot encoding\nBM_onehot = pd.get_dummies(BM_venues[['VenueCategory']], prefix=\"\", prefix_sep=\"\")\n\n#column lists before adding neighborhood\ncolumn_names = ['Neighborhood'] + list(BM_onehot.columns)\n\n# add neighborhood column back to dataframe\nBM_onehot['Neighborhood'] = BM_venues['Neighborhood'] \n\n# move neighborhood column to the first column\nBM_onehot = BM_onehot[column_names]\n\nBM_onehot.head()"
        },
        {
            "cell_type": "markdown",
            "metadata": {},
            "source": "### To filter only Restaurant data"
        },
        {
            "cell_type": "code",
            "execution_count": null,
            "metadata": {},
            "outputs": [],
            "source": "\nrestaurant_List = []\nsearch = 'Restaurant'\nfor i in BM_onehot.columns :\n    if search in i:\n        restaurant_List.append(i)"
        },
        {
            "cell_type": "code",
            "execution_count": null,
            "metadata": {},
            "outputs": [],
            "source": "restaurant_List"
        },
        {
            "cell_type": "code",
            "execution_count": null,
            "metadata": {},
            "outputs": [],
            "source": "\ncol_name = []\ncol_name = ['Neighborhood'] + restaurant_List\nBM_restaurant = BM_onehot[col_name]\nBM_restaurant = BM_restaurant.iloc[:,1::]"
        },
        {
            "cell_type": "code",
            "execution_count": null,
            "metadata": {},
            "outputs": [],
            "source": "\nBM_restaurant_grouped = BM_restaurant.groupby('Neighborhood').sum().reset_index()"
        },
        {
            "cell_type": "code",
            "execution_count": null,
            "metadata": {},
            "outputs": [],
            "source": "BM_restaurant_grouped['Total'] = BM_restaurant_grouped .sum(axis=1)"
        },
        {
            "cell_type": "markdown",
            "metadata": {},
            "source": "## Cluster Neighborhoods and Examine Clusters"
        },
        {
            "cell_type": "markdown",
            "metadata": {},
            "source": "### Let's determine the optimal value of K for our dataset using the Silhouette Coefficient Method\n\n### From sklearn documentation - https://scikit-learn.org/stable/modules/clustering.html#silhouette-coefficient\nA higher Silhouette Coefficient score relates to a model with better-defined clusters. The Silhouette Coefficient is defined for each sample and is composed of two scores: `\n\na: The mean distance between a sample and all other points in the same class.\n\nb: The mean distance between a sample and all other points in the next nearest cluster.\n\nThe Silhouette Coefficient is for a single sample is then given as:\n\ns=b-a/max(a,b)\n\nNow, to find the optimal value of k for KMeans, loop through 1..n for n_clusters in KMeans and calculate Silhouette Coefficient for each sample.\n\nA higher Silhouette Coefficient indicates that the object is well matched to its own cluster and poorly matched to neighboring clusters.\n"
        },
        {
            "cell_type": "code",
            "execution_count": null,
            "metadata": {},
            "outputs": [],
            "source": "BM_grouped_clustering = BM_restaurant_grouped.drop('Neighborhood', 1)\n\nfor n_cluster in range(2, 10):\n    kmeans = KMeans(n_clusters=n_cluster).fit(BM_grouped_clustering)\n    label = kmeans.labels_\n    sil_coeff = silhouette_score(BM_grouped_clustering, label, metric='euclidean')\n    print(\"For n_clusters={}, The Silhouette Coefficient is {}\".format(n_cluster, sil_coeff))\n"
        },
        {
            "cell_type": "code",
            "execution_count": null,
            "metadata": {},
            "outputs": [],
            "source": "### Run k-means to cluster the neighborhood into 2 clusters"
        },
        {
            "cell_type": "code",
            "execution_count": null,
            "metadata": {},
            "outputs": [],
            "source": "\n# set number of clusters\nkclusters = 2\n\nBM_grouped_clustering = BM_restaurant_grouped.drop('Neighborhood', 1)\n\n# run k-means clustering\nkmeans = KMeans(n_clusters=kclusters, random_state=0).fit(BM_grouped_clustering)\n\n# check cluster labels generated for each row in the dataframe\nkmeans.labels_"
        },
        {
            "cell_type": "code",
            "execution_count": null,
            "metadata": {},
            "outputs": [],
            "source": "BM_results.columns = BM_grouped_clustering.columns\nBM_results.index = ['cluster0','cluster1']\nBM_results['Total Sum'] = BM_results.sum(axis = 1)\nBM_results"
        },
        {
            "cell_type": "code",
            "execution_count": null,
            "metadata": {},
            "outputs": [],
            "source": "###Dataframe with Neighborhood,Cluster Number and Total Sum"
        },
        {
            "cell_type": "code",
            "execution_count": null,
            "metadata": {},
            "outputs": [],
            "source": "BM_results_merged = pd.DataFrame(BM_restaurant_grouped['Neighborhood'])\n\nBM_results_merged['Total'] = BM_restaurant_grouped['Total']\nBM_results_merged = BM_results_merged.assign(Cluster_Labels = kmeans.labels_)"
        },
        {
            "cell_type": "code",
            "execution_count": null,
            "metadata": {},
            "outputs": [],
            "source": "print(BM_results_merged.shape)\nBM_results_merged"
        },
        {
            "cell_type": "code",
            "execution_count": null,
            "metadata": {},
            "outputs": [],
            "source": "### Merge BM_results_merged with BM_Geo"
        },
        {
            "cell_type": "code",
            "execution_count": null,
            "metadata": {},
            "outputs": [],
            "source": "BM_merged = BM_Geo\n\nBM_merged = BM_merged.join(BM_results_merged.set_index('Neighborhood'), on='Neighborhood')\n\nprint(BM_merged.shape)\nBM_merged.head(10) # check the last columns!"
        },
        {
            "cell_type": "markdown",
            "metadata": {},
            "source": "### Let's visualize the resulting clusters"
        },
        {
            "cell_type": "code",
            "execution_count": null,
            "metadata": {},
            "outputs": [],
            "source": "\n# create map\nmap_clusters = folium.Map(location=[latitude, longitude], zoom_start=11)\n\n# set color scheme for the clusters\nx = np.arange(kclusters)\nys = [i+x+(i*x)**2 for i in range(kclusters)]\ncolors_array = cm.rainbow(np.linspace(0, 1, len(ys)))\nrainbow = [colors.rgb2hex(i) for i in colors_array]\n\n# add markers to the map\nmarkers_colors = []\nfor lat, lon, poi, cluster in zip(BM_merged['Latitude'], BM_merged['Longitude'], BM_merged['Neighborhood'], BM_merged['Cluster_Labels']):\n    label = folium.Popup(str(poi) + ' Cluster ' + str(cluster), parse_html=True)\n    folium.CircleMarker(\n        [lat, lon],\n        radius=5,\n        popup=label,\n        color=rainbow[cluster-1],\n        fill=True,\n        fill_color=rainbow[cluster-1],\n        fill_opacity=0.7).add_to(map_clusters)\n       \nmap_clusters"
        },
        {
            "cell_type": "markdown",
            "metadata": {},
            "source": "## List Neighborhoods of Interest in New York City"
        },
        {
            "cell_type": "markdown",
            "metadata": {},
            "source": "### Cluster 1 : Saturated Markets"
        },
        {
            "cell_type": "code",
            "execution_count": null,
            "metadata": {},
            "outputs": [],
            "source": "\nBM_merged[BM_merged['Cluster_Labels'] == 1].reset_index(drop=True)"
        },
        {
            "cell_type": "markdown",
            "metadata": {},
            "source": "### Cluster 0 : Untapped Markets"
        },
        {
            "cell_type": "code",
            "execution_count": null,
            "metadata": {},
            "outputs": [],
            "source": "BM_merged[BM_merged['Total'] == 0].reset_index(drop=True)"
        },
        {
            "cell_type": "markdown",
            "metadata": {},
            "source": "### There are no Untapped Markets for Restaurant business in Brooklyn and Manhattan."
        },
        {
            "cell_type": "markdown",
            "metadata": {},
            "source": "# Part 5B Segmenting and Clustering Neighborhoods - Bronx, Queens and Staten Island"
        },
        {
            "cell_type": "markdown",
            "metadata": {},
            "source": "# Introduction"
        },
        {
            "cell_type": "code",
            "execution_count": null,
            "metadata": {},
            "outputs": [],
            "source": "In this section of the capstone project, we will use the Foursquare API to explore neighborhoods in Bronx, Queens and Staten Island."
        },
        {
            "cell_type": "markdown",
            "metadata": {},
            "source": "## 1. Download and Explore Dataset"
        },
        {
            "cell_type": "code",
            "execution_count": null,
            "metadata": {},
            "outputs": [],
            "source": "BQS_Geo = NYC_Geo.loc[(NYC_Geo['Borough'] == 'Bronx')|(NYC_Geo['Borough'] == 'Queens')|(NYC_Geo['Borough'] == 'Staten Island')]\nBQS_Geo = BQS_Geo.reset_index(drop=True)\nBQS_Geo.head()"
        },
        {
            "cell_type": "code",
            "execution_count": null,
            "metadata": {},
            "outputs": [],
            "source": "BQS_Geo.shape"
        },
        {
            "cell_type": "code",
            "execution_count": null,
            "metadata": {},
            "outputs": [],
            "source": "### Create a map of Bronx, Queens and Staten Island with neighborhoods superimposed on top"
        },
        {
            "cell_type": "code",
            "execution_count": null,
            "metadata": {},
            "outputs": [],
            "source": "\n# create map of Toronto using latitude and longitude values\nmap_BQS = folium.Map(location=[latitude, longitude], zoom_start=10)\n\n# add markers to map\nfor lat, lng, borough, neighborhood in zip(BQS_Geo['Latitude'], BQS_Geo['Longitude'], BQS_Geo['Borough'], BQS_Geo['Neighborhood']):\n    label = '{}, {}'.format(neighborhood, borough)\n    label = folium.Popup(label, parse_html=True)\n    folium.CircleMarker(\n        [lat, lng],\n        radius=5,\n        popup=label,\n        color='blue',\n        fill=True,\n        fill_color='#3186cc',\n        fill_opacity=0.7,\n        parse_html=False).add_to(map_BQS)  \n    \nmap_BQS"
        },
        {
            "cell_type": "markdown",
            "metadata": {},
            "source": "## 2. Explore Neighborhoods in Bronx, Queens and Staten Island"
        },
        {
            "cell_type": "markdown",
            "metadata": {},
            "source": "### Run the above function on each neighborhood and create a new dataframe called BQS_venues"
        },
        {
            "cell_type": "code",
            "execution_count": null,
            "metadata": {},
            "outputs": [],
            "source": "BQS_venues = getNearbyVenues(names=BQS_Geo['Neighborhood'],\n                                  latitudes=BQS_Geo['Latitude'],\n                                  longitudes=BQS_Geo['Longitude'],\n                                  LIMIT=200)\n\nprint('The \"BQS_venues\" dataframe has {} venues and {} unique venue types.'.format(\n      len(BQS_venues['Venue Category']),\n      len(BQS_venues['Venue Category'].unique())))\n\nBQS_venues.to_csv('BQS_venues.csv', sep=',', encoding='UTF8')\nBQS_venues.head()"
        },
        {
            "cell_type": "markdown",
            "metadata": {},
            "source": "### Download data from BQS_venues.csv"
        },
        {
            "cell_type": "code",
            "execution_count": null,
            "metadata": {},
            "outputs": [],
            "source": "colnames = ['Neighborhood', 'Neighborhood Latitude', 'Neighborhood Longitude', 'Venue', 'Venue Latitude', 'Venue Longitude', 'Venue Category']\nBQS_venues = pd.read_csv('BQS_venues.csv', skiprows=1, names=colnames)\nBQS_venues.columns = BQS_venues.columns.str.replace(' ', '')\nBQS_venues.head()"
        },
        {
            "cell_type": "code",
            "execution_count": null,
            "metadata": {},
            "outputs": [],
            "source": "### Visualize the BQS_Venues data"
        },
        {
            "cell_type": "code",
            "execution_count": null,
            "metadata": {},
            "outputs": [],
            "source": "Venues_Map('New York City, NY', BQS_venues)"
        },
        {
            "cell_type": "markdown",
            "metadata": {},
            "source": "## Let's check how many venues were returned for each neighborhood"
        },
        {
            "cell_type": "code",
            "execution_count": null,
            "metadata": {},
            "outputs": [],
            "source": "BQS_venues.groupby('VenueCategory')['Venue'].count().sort_values(ascending=False)"
        },
        {
            "cell_type": "markdown",
            "metadata": {},
            "source": "### Let's find out how many unique categories can be curated from all the returned venues"
        },
        {
            "cell_type": "code",
            "execution_count": null,
            "metadata": {},
            "outputs": [],
            "source": "print('There are {} uniques categories.'.format(len(BQS_venues['VenueCategory'].unique())))"
        },
        {
            "cell_type": "markdown",
            "metadata": {},
            "source": "# 3. Analyze Each Neighborhood"
        },
        {
            "cell_type": "code",
            "execution_count": null,
            "metadata": {},
            "outputs": [],
            "source": "# one hot encoding\nBQS_onehot = pd.get_dummies(BQS_venues[['VenueCategory']], prefix=\"\", prefix_sep=\"\")\n\n#column lists before adding neighborhood\ncolumn_names = ['Neighborhood'] + list(BQS_onehot.columns)\n\n# add neighborhood column back to dataframe\nBQS_onehot['Neighborhood'] = BQS_venues['Neighborhood'] \n\n# move neighborhood column to the first column\nBQS_onehot = BQS_onehot[column_names]\n\nBQS_onehot.head()"
        },
        {
            "cell_type": "code",
            "execution_count": null,
            "metadata": {},
            "outputs": [],
            "source": "restaurant_List1 = []\nsearch = 'Restaurant'\nfor i in BQS_onehot.columns :\n    if search in i:\n        restaurant_List1.append(i)"
        },
        {
            "cell_type": "code",
            "execution_count": null,
            "metadata": {},
            "outputs": [],
            "source": "restaurant_List1"
        },
        {
            "cell_type": "code",
            "execution_count": null,
            "metadata": {},
            "outputs": [],
            "source": "col_name = []\ncol_name = ['Neighborhood'] + restaurant_List1\nBQS_restaurant = BQS_onehot[col_name]\nBQS_restaurant = BQS_restaurant.iloc[:,1::]"
        },
        {
            "cell_type": "code",
            "execution_count": null,
            "metadata": {},
            "outputs": [],
            "source": "BQS_restaurant_grouped = BQS_restaurant.groupby('Neighborhood').sum().reset_index()"
        },
        {
            "cell_type": "code",
            "execution_count": null,
            "metadata": {},
            "outputs": [],
            "source": "BQS_restaurant_grouped['Total'] = BQS_restaurant_grouped .sum(axis=1)"
        },
        {
            "cell_type": "markdown",
            "metadata": {},
            "source": "# 4. Cluster Neighborhoods and Examine Clusters"
        },
        {
            "cell_type": "markdown",
            "metadata": {},
            "source": "### Let's determine the optimal value of K for our dataset using the Silhouette Coefficient Method"
        },
        {
            "cell_type": "code",
            "execution_count": null,
            "metadata": {},
            "outputs": [],
            "source": "BQS_grouped_clustering = BQS_restaurant_grouped.drop('Neighborhood', 1)\n\nfor n_cluster in range(2, 10):\n    kmeans = KMeans(n_clusters=n_cluster).fit(BQS_grouped_clustering)\n    label = kmeans.labels_\n    sil_coeff = silhouette_score(BQS_grouped_clustering, label, metric='euclidean')\n    print(\"For n_clusters={}, The Silhouette Coefficient is {}\".format(n_cluster, sil_coeff))"
        },
        {
            "cell_type": "markdown",
            "metadata": {},
            "source": "### Run k-means to cluster the neighborhood into 2 clusters"
        },
        {
            "cell_type": "code",
            "execution_count": null,
            "metadata": {},
            "outputs": [],
            "source": "# set number of clusters\nkclusters = 2\n\nBQS_grouped_clustering = BQS_restaurant_grouped.drop('Neighborhood', 1)\n\n# run k-means clustering\nkmeans = KMeans(n_clusters=kclusters, random_state=0).fit(BQS_grouped_clustering)\n\n# check cluster labels generated for each row in the dataframe\nkmeans.labels_"
        },
        {
            "cell_type": "code",
            "execution_count": null,
            "metadata": {},
            "outputs": [],
            "source": "BQS_results = pd.DataFrame(kmeans.cluster_centers_)\nBQS_results.columns = BQS_grouped_clustering.columns\nBQS_results.index = ['cluster0','cluster1']\nBQS_results['Total Sum'] = BQS_results.sum(axis = 1)\nBQS_results"
        },
        {
            "cell_type": "markdown",
            "metadata": {},
            "source": "The Total and Total Sum of cluster0 has smallest value. It shows that the market is not saturated.\n\n### Dataframe with Neighborhood,Cluster No and Total Sum"
        },
        {
            "cell_type": "code",
            "execution_count": null,
            "metadata": {},
            "outputs": [],
            "source": "BQS_results_merged = pd.DataFrame(BQS_restaurant_grouped['Neighborhood'],)\n\nBQS_results_merged['Total'] = BQS_restaurant_grouped['Total']\nBQS_results_merged = BQS_results_merged.assign(Cluster_Labels = kmeans.labels_)"
        },
        {
            "cell_type": "code",
            "execution_count": null,
            "metadata": {},
            "outputs": [],
            "source": "print(BQS_results_merged.shape)\nBQS_results_merged"
        },
        {
            "cell_type": "markdown",
            "metadata": {},
            "source": "### Merge BQS_results_merged with BQS_Geo"
        },
        {
            "cell_type": "code",
            "execution_count": null,
            "metadata": {},
            "outputs": [],
            "source": "\nBQS_merged = BQS_merged.join(BQS_results_merged.set_index('Neighborhood'), on='Neighborhood')\n\nprint(BQS_merged.shape)\nBQS_merged.head(10) # check the last columns!"
        },
        {
            "cell_type": "markdown",
            "metadata": {},
            "source": "### Let's visualize the resulting clusters"
        },
        {
            "cell_type": "code",
            "execution_count": null,
            "metadata": {},
            "outputs": [],
            "source": "# create map\nmap_clusters = folium.Map(location=[latitude, longitude], zoom_start=11)\n\n# set color scheme for the clusters\nx = np.arange(kclusters)\nys = [i+x+(i*x)**2 for i in range(kclusters)]\ncolors_array = cm.rainbow(np.linspace(0, 1, len(ys)))\nrainbow = [colors.rgb2hex(i) for i in colors_array]\n\n# add markers to the map\nmarkers_colors = []\nfor lat, lon, poi, cluster in zip(BQS_merged['Latitude'], BQS_merged['Longitude'], BQS_merged['Neighborhood'], BQS_merged['Cluster_Labels']):\n    label = folium.Popup(str(poi) + ' Cluster ' + str(cluster), parse_html=True)\n    folium.CircleMarker(\n        [lat, lon],\n        radius=5,\n        popup=label,\n        color=rainbow[cluster-1],\n        fill=True,\n        fill_color=rainbow[cluster-1],\n        fill_opacity=0.7).add_to(map_clusters)\n       \nmap_clusters"
        },
        {
            "cell_type": "markdown",
            "metadata": {},
            "source": "# List Neighborhoods of Interest in New York City - Bronx, Queens and Staten Island\n\n# Cluster 1 saturated markets"
        },
        {
            "cell_type": "code",
            "execution_count": null,
            "metadata": {},
            "outputs": [],
            "source": "BQS_merged[BQS_merged['Cluster_Labels'] == 1].reset_index(drop=True)"
        },
        {
            "cell_type": "markdown",
            "metadata": {},
            "source": "# Cluster 0 Untapped Markets"
        },
        {
            "cell_type": "code",
            "execution_count": null,
            "metadata": {},
            "outputs": [],
            "source": "BQS_merged[BQS_merged['Total'] == 0].reset_index(drop=True)"
        }
    ],
    "metadata": {
        "kernelspec": {
            "display_name": "Python 3.6",
            "language": "python",
            "name": "python3"
        },
        "language_info": {
            "codemirror_mode": {
                "name": "ipython",
                "version": 3
            },
            "file_extension": ".py",
            "mimetype": "text/x-python",
            "name": "python",
            "nbconvert_exporter": "python",
            "pygments_lexer": "ipython3",
            "version": "3.6.9"
        }
    },
    "nbformat": 4,
    "nbformat_minor": 1
}