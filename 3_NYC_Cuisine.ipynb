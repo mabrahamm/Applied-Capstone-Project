{
    "cells": [
        {
            "cell_type": "markdown",
            "metadata": {
                "collapsed": true
            },
            "source": "# The Battle of the Neighborhoods - Week 2"
        },
        {
            "cell_type": "markdown",
            "metadata": {},
            "source": "## Part 3 Download and Explore New York City and its Boroughs' Cuisine dataset"
        },
        {
            "cell_type": "markdown",
            "metadata": {},
            "source": "### Download all the dependencies that are needed"
        },
        {
            "cell_type": "code",
            "execution_count": 1,
            "metadata": {},
            "outputs": [
                {
                    "name": "stdout",
                    "output_type": "stream",
                    "text": "Matplotlib version:  3.0.2\nSolving environment: done\n\n## Package Plan ##\n\n  environment location: /opt/conda/envs/Python36\n\n  added / updated specs: \n    - wordcloud==1.4.1\n\n\nThe following packages will be downloaded:\n\n    package                    |            build\n    ---------------------------|-----------------\n    python_abi-3.6             |          1_cp36m           4 KB  conda-forge\n    openssl-1.1.1g             |       h516909a_1         2.1 MB  conda-forge\n    ca-certificates-2020.6.20  |       hecda079_0         145 KB  conda-forge\n    certifi-2020.6.20          |   py36h9f0ad1d_0         151 KB  conda-forge\n    wordcloud-1.4.1            |           py36_0         324 KB  conda-forge\n    ------------------------------------------------------------\n                                           Total:         2.7 MB\n\nThe following NEW packages will be INSTALLED:\n\n    python_abi:      3.6-1_cp36m       conda-forge\n    wordcloud:       1.4.1-py36_0      conda-forge\n\nThe following packages will be UPDATED:\n\n    certifi:         2020.6.20-py36_0              --> 2020.6.20-py36h9f0ad1d_0 conda-forge\n    openssl:         1.1.1g-h7b6447c_0             --> 1.1.1g-h516909a_1        conda-forge\n\nThe following packages will be DOWNGRADED:\n\n    ca-certificates: 2020.7.22-0                   --> 2020.6.20-hecda079_0     conda-forge\n\n\nDownloading and Extracting Packages\npython_abi-3.6       | 4 KB      | ##################################### | 100% \nopenssl-1.1.1g       | 2.1 MB    | ##################################### | 100% \nca-certificates-2020 | 145 KB    | ##################################### | 100% \ncertifi-2020.6.20    | 151 KB    | ##################################### | 100% \nwordcloud-1.4.1      | 324 KB    | ##################################### | 100% \nPreparing transaction: done\nVerifying transaction: done\nExecuting transaction: done\nWordcloud is installed and imported!\n"
                }
            ],
            "source": "import numpy as np # library to handle data in a vectorized manner\nimport pandas as pd # library for data analsysis\nfrom PIL import Image # converting images into arrays\n\n%matplotlib inline\n\nimport matplotlib as mpl\nimport matplotlib.pyplot as plt\n\nmpl.style.use('ggplot') # optional: for ggplot-like style\n\n# check for latest version of Matplotlib\nprint ('Matplotlib version: ', mpl.__version__) # >= 2.0.0\n\n# install wordcloud\n!conda install -c conda-forge wordcloud==1.4.1 --yes\n\n# import package and its set of stopwords\nfrom wordcloud import WordCloud, STOPWORDS\n\nprint ('Wordcloud is installed and imported!')"
        },
        {
            "cell_type": "markdown",
            "metadata": {},
            "source": "# NEW YORK CUISINE WORD CLOUD"
        },
        {
            "cell_type": "code",
            "execution_count": 2,
            "metadata": {},
            "outputs": [],
            "source": "import ibm_boto3\nfrom botocore.client import Config\nimport json\nimport pandas as pd"
        },
        {
            "cell_type": "code",
            "execution_count": 8,
            "metadata": {},
            "outputs": [],
            "source": "# The code was removed by Watson Studio for sharing."
        },
        {
            "cell_type": "code",
            "execution_count": 19,
            "metadata": {},
            "outputs": [
                {
                    "ename": "KeyError",
                    "evalue": "'7QLZ_oiQcU9Xo8XL-onUCBE_l36NWdm4CBvO2i6J0Fb9'",
                    "output_type": "error",
                    "traceback": [
                        "\u001b[0;31m---------------------------------------------------------------------------\u001b[0m",
                        "\u001b[0;31mKeyError\u001b[0m                                  Traceback (most recent call last)",
                        "\u001b[0;32m<ipython-input-19-d4f8ead94de5>\u001b[0m in \u001b[0;36m<module>\u001b[0;34m\u001b[0m\n\u001b[1;32m      1\u001b[0m cos = ibm_boto3.client('s3',\n\u001b[0;32m----> 2\u001b[0;31m                        \u001b[0mibm_api_key_id\u001b[0m\u001b[0;34m=\u001b[0m\u001b[0mcredentials_1\u001b[0m\u001b[0;34m[\u001b[0m\u001b[0;34m'7QLZ_oiQcU9Xo8XL-onUCBE_l36NWdm4CBvO2i6J0Fb9'\u001b[0m\u001b[0;34m]\u001b[0m\u001b[0;34m,\u001b[0m\u001b[0;34m\u001b[0m\u001b[0;34m\u001b[0m\u001b[0m\n\u001b[0m\u001b[1;32m      3\u001b[0m                        \u001b[0mibm_service_instance_id\u001b[0m\u001b[0;34m=\u001b[0m\u001b[0mcredentials_1\u001b[0m\u001b[0;34m[\u001b[0m\u001b[0;34m'iam-ServiceId-b553bfa0-6d6a-42e0-97d8-e83737a54662'\u001b[0m\u001b[0;34m]\u001b[0m\u001b[0;34m,\u001b[0m\u001b[0;34m\u001b[0m\u001b[0;34m\u001b[0m\u001b[0m\n\u001b[1;32m      4\u001b[0m                        \u001b[0mibm_auth_endpoint\u001b[0m\u001b[0;34m=\u001b[0m\u001b[0mcredentials_1\u001b[0m\u001b[0;34m[\u001b[0m\u001b[0;34m'https://iam.cloud.ibm.com/oidc/token'\u001b[0m\u001b[0;34m]\u001b[0m\u001b[0;34m,\u001b[0m\u001b[0;34m\u001b[0m\u001b[0;34m\u001b[0m\u001b[0m\n\u001b[1;32m      5\u001b[0m                        \u001b[0mconfig\u001b[0m\u001b[0;34m=\u001b[0m\u001b[0mConfig\u001b[0m\u001b[0;34m(\u001b[0m\u001b[0msignature_version\u001b[0m\u001b[0;34m=\u001b[0m\u001b[0;34m'oauth'\u001b[0m\u001b[0;34m)\u001b[0m\u001b[0;34m,\u001b[0m\u001b[0;34m\u001b[0m\u001b[0;34m\u001b[0m\u001b[0m\n",
                        "\u001b[0;31mKeyError\u001b[0m: '7QLZ_oiQcU9Xo8XL-onUCBE_l36NWdm4CBvO2i6J0Fb9'"
                    ]
                }
            ],
            "source": "cos = ibm_boto3.client('s3',\n                       ibm_api_key_id=credentials_1['7QLZ_oiQcU9Xo8XL-onUCBE_l36NWdm4CBvO2i6J0Fb9'],\n                       ibm_service_instance_id=credentials_1['iam-ServiceId-b553bfa0-6d6a-42e0-97d8-e83737a54662'],\n                       ibm_auth_endpoint=credentials_1['https://iam.cloud.ibm.com/oidc/token'],\n                       config=Config(signature_version='oauth'),\n                       endpoint_url=credentials_1['https://s3-api.us-geo.objectstorage.service.networklayer.com'])"
        },
        {
            "cell_type": "code",
            "execution_count": 13,
            "metadata": {},
            "outputs": [],
            "source": "def get_file(filename):\n    '''Retrieve file from Cloud Object Storage'''\n    fileobject = cos.get_object(Bucket=credentials_1['BUCKET'], Key=new-york-cuisine.txt)['Body']\n    return fileobject"
        },
        {
            "cell_type": "code",
            "execution_count": 15,
            "metadata": {},
            "outputs": [],
            "source": "def load_string(fileobject):\n    '''Load the file contents into a Python string'''\n    text = fileobject.read()\n    return text"
        },
        {
            "cell_type": "code",
            "execution_count": 16,
            "metadata": {},
            "outputs": [],
            "source": "def load_dict(fileobject):\n    '''Load the file contents into a Python dict'''\n    text = fileobject.read()\n    dictformat = json.loads(text)\n    return dictformat"
        },
        {
            "cell_type": "markdown",
            "metadata": {},
            "source": "### First, let's load a csv file containing restaurant data from Wikipedia"
        },
        {
            "cell_type": "code",
            "execution_count": null,
            "metadata": {},
            "outputs": [],
            "source": "\n# Fetch the file\nmy_file = project.get_file(\"NYC_CUISINE.csv\")\n\n# Read the CSV data file from the object storage into a pandas DataFrame\nmy_file.seek(0)\nimport pandas as pd\nNYC_CUISINE=pd.read_csv(my_file)\nNYC_CUISINE.drop(NYC_CUISINE.columns[[3,4,5,6,7]], axis=1,inplace=True) \nNYC_CUISINE.head()"
        },
        {
            "cell_type": "code",
            "execution_count": null,
            "metadata": {},
            "outputs": [],
            "source": "NYC_CUISINE.shape"
        },
        {
            "cell_type": "code",
            "execution_count": null,
            "metadata": {},
            "outputs": [],
            "source": "print(NYC_CUISINE.Borough.unique())"
        },
        {
            "cell_type": "code",
            "execution_count": null,
            "metadata": {},
            "outputs": [],
            "source": "NYC_CUISINE['Borough'].value_counts().to_frame()"
        },
        {
            "cell_type": "markdown",
            "metadata": {},
            "source": "## BROOKLYN CUISINE - WORD CLOUD"
        },
        {
            "cell_type": "code",
            "execution_count": null,
            "metadata": {},
            "outputs": [],
            "source": "Brooklyn_data = NYC_CUISINE[NYC_CUISINE['Borough'] == 'Brooklyn'].reset_index(drop=True)\nBrooklyn_data.head()"
        },
        {
            "cell_type": "code",
            "execution_count": null,
            "metadata": {},
            "outputs": [],
            "source": "BR_CUISINE_WC = Brooklyn_data[['Cuisine']]\nBR_CUISINE_WC"
        },
        {
            "cell_type": "code",
            "execution_count": null,
            "metadata": {},
            "outputs": [],
            "source": "BR_CUISINE_WC.to_csv('BR_CUISINE.txt', sep=',', index=False)"
        },
        {
            "cell_type": "code",
            "execution_count": null,
            "metadata": {},
            "outputs": [],
            "source": "BR_CUISINE_WC = open('BR_CUISINE.txt', 'r').read()"
        },
        {
            "cell_type": "code",
            "execution_count": null,
            "metadata": {},
            "outputs": [],
            "source": "stopwords = set(STOPWORDS)"
        },
        {
            "cell_type": "code",
            "execution_count": null,
            "metadata": {},
            "outputs": [],
            "source": "# instantiate a word cloud object\nBR_CUISINE_NYC = WordCloud(\n    background_color='white',\n    max_words=2000,\n    stopwords=stopwords\n)\n\n# generate the word cloud\nBR_CUISINE_NYC.generate(BR_CUISINE_WC)"
        },
        {
            "cell_type": "code",
            "execution_count": null,
            "metadata": {},
            "outputs": [],
            "source": "\n# display the word cloud\nplt.imshow(BR_CUISINE_NYC, interpolation='bilinear')\nplt.axis('off')\n\nfig = plt.figure()\nfig.set_figwidth(30)\nfig.set_figheight(45)\n\nplt.show()"
        },
        {
            "cell_type": "markdown",
            "metadata": {},
            "source": "## QUEENS CUISINE - WORD CLOUD"
        },
        {
            "cell_type": "code",
            "execution_count": null,
            "metadata": {},
            "outputs": [],
            "source": "Queens_data = NYC_CUISINE[NYC_CUISINE['Borough'] == 'Queens'].reset_index(drop=True)\nQueens_data.head()"
        },
        {
            "cell_type": "code",
            "execution_count": null,
            "metadata": {},
            "outputs": [],
            "source": "Q_CUISINE_WC = Queens_data[['Cuisine']]\nQ_CUISINE_WC"
        },
        {
            "cell_type": "code",
            "execution_count": null,
            "metadata": {},
            "outputs": [],
            "source": "Q_CUISINE_WC.to_csv('Q_CUISINE.txt', sep=',', index=False)"
        },
        {
            "cell_type": "code",
            "execution_count": null,
            "metadata": {},
            "outputs": [],
            "source": "Q_CUISINE_WC = open('Q_CUISINE.txt', 'r').read()"
        },
        {
            "cell_type": "code",
            "execution_count": null,
            "metadata": {},
            "outputs": [],
            "source": "stopwords = set(STOPWORDS)"
        },
        {
            "cell_type": "code",
            "execution_count": null,
            "metadata": {},
            "outputs": [],
            "source": "# instantiate a word cloud object\nQ_CUISINE_NYC = WordCloud(\n    background_color='white',\n    max_words=2000,\n    stopwords=stopwords\n)\n\n# generate the word cloud\nQ_CUISINE_NYC.generate(Q_CUISINE_WC)"
        },
        {
            "cell_type": "code",
            "execution_count": null,
            "metadata": {},
            "outputs": [],
            "source": "# display the word cloud\nplt.imshow(Q_CUISINE_NYC, interpolation='bilinear')\nplt.axis('off')\n\nfig = plt.figure()\nfig.set_figwidth(30)\nfig.set_figheight(45)\n\nplt.show()"
        },
        {
            "cell_type": "markdown",
            "metadata": {},
            "source": "## MANHATTAN CUISINE - WORD CLOUD"
        },
        {
            "cell_type": "code",
            "execution_count": null,
            "metadata": {},
            "outputs": [],
            "source": "Manhattan_data = NYC_CUISINE[NYC_CUISINE['Borough'] == 'Manhattan'].reset_index(drop=True)\nManhattan_data.head()"
        },
        {
            "cell_type": "code",
            "execution_count": null,
            "metadata": {},
            "outputs": [],
            "source": "MN_CUISINE_WC = Manhattan_data[['Cuisine']]\nMN_CUISINE_WC"
        },
        {
            "cell_type": "code",
            "execution_count": null,
            "metadata": {},
            "outputs": [],
            "source": "MN_CUISINE_WC.to_csv('MN_CUISINE.txt', sep=',', index=False)"
        },
        {
            "cell_type": "code",
            "execution_count": null,
            "metadata": {},
            "outputs": [],
            "source": "MN_CUISINE_WC = open('MN_CUISINE.txt', 'r').read()"
        },
        {
            "cell_type": "code",
            "execution_count": null,
            "metadata": {},
            "outputs": [],
            "source": "stopwords = set(STOPWORDS)"
        },
        {
            "cell_type": "code",
            "execution_count": null,
            "metadata": {},
            "outputs": [],
            "source": "# instantiate a word cloud object\nMN_CUISINE_NYC = WordCloud(\n    background_color='white',\n    max_words=2000,\n    stopwords=stopwords\n)\n\n# generate the word cloud\nMN_CUISINE_NYC.generate(MN_CUISINE_WC)"
        },
        {
            "cell_type": "code",
            "execution_count": null,
            "metadata": {},
            "outputs": [],
            "source": "\n# display the word cloud\nplt.imshow(MN_CUISINE_NYC, interpolation='bilinear')\nplt.axis('off')\n\nfig = plt.figure()\nfig.set_figwidth(30)\nfig.set_figheight(45)\n\nplt.show()"
        },
        {
            "cell_type": "markdown",
            "metadata": {},
            "source": "## THE BRONX CUISINE - WORD CLOUD"
        },
        {
            "cell_type": "code",
            "execution_count": null,
            "metadata": {},
            "outputs": [],
            "source": "Bronx_data = NYC_CUISINE[NYC_CUISINE['Borough'] == 'The Bronx'].reset_index(drop=True)\nBronx_data.head()"
        },
        {
            "cell_type": "code",
            "execution_count": null,
            "metadata": {},
            "outputs": [],
            "source": "BX_CUISINE_WC = Bronx_data[['Cuisine']]\nBX_CUISINE_WC"
        },
        {
            "cell_type": "code",
            "execution_count": null,
            "metadata": {},
            "outputs": [],
            "source": "BX_CUISINE_WC.to_csv('BX_CUISINE.txt', sep=',', index=False)"
        },
        {
            "cell_type": "code",
            "execution_count": null,
            "metadata": {},
            "outputs": [],
            "source": "BX_CUISINE_WC = open('BX_CUISINE.txt', 'r').read()"
        },
        {
            "cell_type": "code",
            "execution_count": null,
            "metadata": {},
            "outputs": [],
            "source": "stopwords = set(STOPWORDS)"
        },
        {
            "cell_type": "code",
            "execution_count": null,
            "metadata": {},
            "outputs": [],
            "source": "# instantiate a word cloud object\nBX_CUISINE_NYC = WordCloud(\n    background_color='white',\n    max_words=2000,\n    stopwords=stopwords\n)\n\n# generate the word cloud\nBX_CUISINE_NYC.generate(BX_CUISINE_WC)"
        },
        {
            "cell_type": "code",
            "execution_count": null,
            "metadata": {},
            "outputs": [],
            "source": "\n# display the word cloud\nplt.imshow(BX_CUISINE_NYC, interpolation='bilinear')\nplt.axis('off')\n\nfig = plt.figure()\nfig.set_figwidth(30)\nfig.set_figheight(45)\n\nplt.show()"
        },
        {
            "cell_type": "code",
            "execution_count": null,
            "metadata": {},
            "outputs": [],
            "source": ""
        }
    ],
    "metadata": {
        "kernelspec": {
            "display_name": "Python 3.6",
            "language": "python",
            "name": "python3"
        },
        "language_info": {
            "codemirror_mode": {
                "name": "ipython",
                "version": 3
            },
            "file_extension": ".py",
            "mimetype": "text/x-python",
            "name": "python",
            "nbconvert_exporter": "python",
            "pygments_lexer": "ipython3",
            "version": "3.6.9"
        }
    },
    "nbformat": 4,
    "nbformat_minor": 1
}