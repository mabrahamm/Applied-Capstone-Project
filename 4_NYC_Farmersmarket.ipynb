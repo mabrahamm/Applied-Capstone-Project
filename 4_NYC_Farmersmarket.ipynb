{
    "cells": [
        {
            "cell_type": "markdown",
            "metadata": {
                "collapsed": true
            },
            "source": "# The Battle of the Neighborhoods - Week 2"
        },
        {
            "cell_type": "code",
            "execution_count": null,
            "metadata": {},
            "outputs": [],
            "source": ""
        },
        {
            "cell_type": "markdown",
            "metadata": {},
            "source": "## Part 4 Download and Explore Farmers Market dataset"
        },
        {
            "cell_type": "markdown",
            "metadata": {},
            "source": "### Download all dependencies needed"
        },
        {
            "cell_type": "code",
            "execution_count": 1,
            "metadata": {},
            "outputs": [
                {
                    "name": "stdout",
                    "output_type": "stream",
                    "text": "Solving environment: done\n\n## Package Plan ##\n\n  environment location: /opt/conda/envs/Python36\n\n  added / updated specs: \n    - geopy\n\n\nThe following packages will be downloaded:\n\n    package                    |            build\n    ---------------------------|-----------------\n    python_abi-3.6             |          1_cp36m           4 KB  conda-forge\n    ca-certificates-2020.6.20  |       hecda079_0         145 KB  conda-forge\n    certifi-2020.6.20          |   py36h9f0ad1d_0         151 KB  conda-forge\n    geographiclib-1.50         |             py_0          34 KB  conda-forge\n    openssl-1.1.1g             |       h516909a_1         2.1 MB  conda-forge\n    geopy-2.0.0                |     pyh9f0ad1d_0          63 KB  conda-forge\n    ------------------------------------------------------------\n                                           Total:         2.5 MB\n\nThe following NEW packages will be INSTALLED:\n\n    geographiclib:   1.50-py_0          conda-forge\n    geopy:           2.0.0-pyh9f0ad1d_0 conda-forge\n    python_abi:      3.6-1_cp36m        conda-forge\n\nThe following packages will be UPDATED:\n\n    certifi:         2020.6.20-py36_0               --> 2020.6.20-py36h9f0ad1d_0 conda-forge\n    openssl:         1.1.1g-h7b6447c_0              --> 1.1.1g-h516909a_1        conda-forge\n\nThe following packages will be DOWNGRADED:\n\n    ca-certificates: 2020.7.22-0                    --> 2020.6.20-hecda079_0     conda-forge\n\n\nDownloading and Extracting Packages\npython_abi-3.6       | 4 KB      | ##################################### | 100% \nca-certificates-2020 | 145 KB    | ##################################### | 100% \ncertifi-2020.6.20    | 151 KB    | ##################################### | 100% \ngeographiclib-1.50   | 34 KB     | ##################################### | 100% \nopenssl-1.1.1g       | 2.1 MB    | ##################################### | 100% \ngeopy-2.0.0          | 63 KB     | ##################################### | 100% \nPreparing transaction: done\nVerifying transaction: done\nExecuting transaction: done\nSolving environment: done\n\n## Package Plan ##\n\n  environment location: /opt/conda/envs/Python36\n\n  added / updated specs: \n    - seaborn\n\n\nThe following packages will be downloaded:\n\n    package                    |            build\n    ---------------------------|-----------------\n    seaborn-0.10.1             |             py_0         160 KB  anaconda\n    ca-certificates-2020.7.22  |                0         132 KB  anaconda\n    openssl-1.1.1g             |       h7b6447c_0         3.8 MB  anaconda\n    certifi-2020.6.20          |           py36_0         160 KB  anaconda\n    ------------------------------------------------------------\n                                           Total:         4.2 MB\n\nThe following packages will be UPDATED:\n\n    ca-certificates: 2020.6.20-hecda079_0     conda-forge --> 2020.7.22-0       anaconda\n    certifi:         2020.6.20-py36h9f0ad1d_0 conda-forge --> 2020.6.20-py36_0  anaconda\n    seaborn:         0.9.0-pyh91ea838_1                   --> 0.10.1-py_0       anaconda\n\nThe following packages will be DOWNGRADED:\n\n    openssl:         1.1.1g-h516909a_1        conda-forge --> 1.1.1g-h7b6447c_0 anaconda\n\n\nDownloading and Extracting Packages\nseaborn-0.10.1       | 160 KB    | ##################################### | 100% \nca-certificates-2020 | 132 KB    | ##################################### | 100% \nopenssl-1.1.1g       | 3.8 MB    | ##################################### | 100% \ncertifi-2020.6.20    | 160 KB    | ##################################### | 100% \nPreparing transaction: done\nVerifying transaction: done\nExecuting transaction: done\nSolving environment: done\n\n## Package Plan ##\n\n  environment location: /opt/conda/envs/Python36\n\n  added / updated specs: \n    - folium=0.5.0\n\n\nThe following packages will be downloaded:\n\n    package                    |            build\n    ---------------------------|-----------------\n    altair-4.1.0               |             py_1         614 KB  conda-forge\n    vincent-0.4.4              |             py_1          28 KB  conda-forge\n    branca-0.4.1               |             py_0          26 KB  conda-forge\n    folium-0.5.0               |             py_0          45 KB  conda-forge\n    ------------------------------------------------------------\n                                           Total:         713 KB\n\nThe following NEW packages will be INSTALLED:\n\n    altair:          4.1.0-py_1        conda-forge\n    branca:          0.4.1-py_0        conda-forge\n    folium:          0.5.0-py_0        conda-forge\n    vincent:         0.4.4-py_1        conda-forge\n\nThe following packages will be UPDATED:\n\n    certifi:         2020.6.20-py36_0  anaconda    --> 2020.6.20-py36h9f0ad1d_0 conda-forge\n    openssl:         1.1.1g-h7b6447c_0 anaconda    --> 1.1.1g-h516909a_1        conda-forge\n\nThe following packages will be DOWNGRADED:\n\n    ca-certificates: 2020.7.22-0       anaconda    --> 2020.6.20-hecda079_0     conda-forge\n\n\nDownloading and Extracting Packages\naltair-4.1.0         | 614 KB    | ##################################### | 100% \nvincent-0.4.4        | 28 KB     | ##################################### | 100% \nbranca-0.4.1         | 26 KB     | ##################################### | 100% \nfolium-0.5.0         | 45 KB     | ##################################### | 100% \nPreparing transaction: done\nVerifying transaction: done\nExecuting transaction: done\nLibraries imported.\n"
                }
            ],
            "source": "import numpy as np # library to handle data in a vectorized manner\n\nimport pandas as pd # library for data analsysis\npd.set_option('display.max_columns', None)\npd.set_option('display.max_rows', None)\n\nimport json # library to handle JSON files\n\n!conda install -c conda-forge geopy --yes # uncomment this line if you haven't completed the Foursquare API lab\nfrom geopy.geocoders import Nominatim # convert an address into latitude and longitude values\n\nimport requests # library to handle requests\nfrom pandas.io.json import json_normalize # tranform JSON file into a pandas dataframe\n\n# Matplotlib and associated plotting modules\nimport matplotlib.cm as cm\nimport matplotlib.colors as colors\nimport matplotlib.pyplot as plt\nfrom matplotlib.ticker import NullFormatter\nimport matplotlib.ticker as ticker\n\n# notice: installing seaborn might takes a few minutes\n!conda install -c anaconda seaborn -y\nimport seaborn as sns\n\n!conda install -c conda-forge folium=0.5.0 --yes # uncomment this line if you haven't completed the Foursquare API lab\nimport folium # map rendering library\n\nprint('Libraries imported.')"
        },
        {
            "cell_type": "code",
            "execution_count": 8,
            "metadata": {},
            "outputs": [
                {
                    "data": {
                        "text/html": "<div>\n<style scoped>\n    .dataframe tbody tr th:only-of-type {\n        vertical-align: middle;\n    }\n\n    .dataframe tbody tr th {\n        vertical-align: top;\n    }\n\n    .dataframe thead th {\n        text-align: right;\n    }\n</style>\n<table border=\"1\" class=\"dataframe\">\n  <thead>\n    <tr style=\"text-align: right;\">\n      <th></th>\n      <th>Borough</th>\n      <th>Market Name</th>\n      <th>Street Address</th>\n      <th>Latitude</th>\n      <th>Longitude</th>\n      <th>Days of Operation</th>\n      <th>Hours of Operations</th>\n      <th>Season Dates</th>\n      <th>Accepts EBT</th>\n      <th>Open Year-Round</th>\n      <th>Stellar Cooking Demonstrations</th>\n      <th>Food Activities for Kids</th>\n      <th>Location Point</th>\n    </tr>\n  </thead>\n  <tbody>\n    <tr>\n      <th>0</th>\n      <td>Brooklyn</td>\n      <td>Urban Oasis Farmers' Market</td>\n      <td>681 Clarkson Ave.</td>\n      <td>40.656255</td>\n      <td>-73.936608</td>\n      <td>Wednesday</td>\n      <td>2pm-5:30pm</td>\n      <td>06/24/20-11/04/20</td>\n      <td>No</td>\n      <td>No</td>\n      <td>NaN</td>\n      <td>NaN</td>\n      <td>(40.656255, -73.936608)</td>\n    </tr>\n    <tr>\n      <th>1</th>\n      <td>Staten Island</td>\n      <td>Goodhue Center Go!Healthy Farm Stand</td>\n      <td>301 Prospect Ave</td>\n      <td>40.638983</td>\n      <td>-74.097422</td>\n      <td>Tuesday</td>\n      <td>11am-2pm</td>\n      <td>07/06/20-11/20/20</td>\n      <td>Yes</td>\n      <td>No</td>\n      <td>NaN</td>\n      <td>NaN</td>\n      <td>(40.638983, -74.097422)</td>\n    </tr>\n    <tr>\n      <th>2</th>\n      <td>Manhattan</td>\n      <td>Morningside Park's Down to Earth Farmers' Market</td>\n      <td>W 110th St &amp; Manhattan Ave</td>\n      <td>40.801155</td>\n      <td>-73.959647</td>\n      <td>Saturday</td>\n      <td>9am-4pm (winter closes at 3pm)</td>\n      <td>Year-Round</td>\n      <td>Yes</td>\n      <td>Yes</td>\n      <td>NaN</td>\n      <td>NaN</td>\n      <td>(40.801155, -73.959647)</td>\n    </tr>\n    <tr>\n      <th>3</th>\n      <td>Bronx</td>\n      <td>170 Farm Stand</td>\n      <td>E 170th St &amp; Townsend Ave</td>\n      <td>40.839882</td>\n      <td>-73.916783</td>\n      <td>Wednesday</td>\n      <td>2:30pm-6:30pm</td>\n      <td>7/15/20-11/25/20</td>\n      <td>Yes</td>\n      <td>No</td>\n      <td>NaN</td>\n      <td>NaN</td>\n      <td>(40.839882, -73.916783)</td>\n    </tr>\n    <tr>\n      <th>4</th>\n      <td>Manhattan</td>\n      <td>Go!Healthy Farm Stand at Mirabal Sisters Campus</td>\n      <td>21 Jumel Pl.</td>\n      <td>40.839305</td>\n      <td>-73.936159</td>\n      <td>Friday</td>\n      <td>11am-2pm</td>\n      <td>07/07/2020-11/20/20</td>\n      <td>Yes</td>\n      <td>No</td>\n      <td>NaN</td>\n      <td>NaN</td>\n      <td>(40.839305, -73.936159)</td>\n    </tr>\n  </tbody>\n</table>\n</div>",
                        "text/plain": "         Borough                                       Market Name  \\\n0       Brooklyn                       Urban Oasis Farmers' Market   \n1  Staten Island              Goodhue Center Go!Healthy Farm Stand   \n2      Manhattan  Morningside Park's Down to Earth Farmers' Market   \n3          Bronx                                    170 Farm Stand   \n4      Manhattan   Go!Healthy Farm Stand at Mirabal Sisters Campus   \n\n               Street Address   Latitude  Longitude Days of Operation  \\\n0           681 Clarkson Ave.  40.656255 -73.936608         Wednesday   \n1            301 Prospect Ave  40.638983 -74.097422           Tuesday   \n2  W 110th St & Manhattan Ave  40.801155 -73.959647          Saturday   \n3   E 170th St & Townsend Ave  40.839882 -73.916783         Wednesday   \n4                21 Jumel Pl.  40.839305 -73.936159            Friday   \n\n              Hours of Operations         Season Dates Accepts EBT  \\\n0                      2pm-5:30pm    06/24/20-11/04/20          No   \n1                        11am-2pm    07/06/20-11/20/20         Yes   \n2  9am-4pm (winter closes at 3pm)           Year-Round         Yes   \n3                   2:30pm-6:30pm     7/15/20-11/25/20         Yes   \n4                        11am-2pm  07/07/2020-11/20/20         Yes   \n\n  Open Year-Round  Stellar Cooking Demonstrations  Food Activities for Kids  \\\n0              No                             NaN                       NaN   \n1              No                             NaN                       NaN   \n2             Yes                             NaN                       NaN   \n3              No                             NaN                       NaN   \n4              No                             NaN                       NaN   \n\n            Location Point  \n0  (40.656255, -73.936608)  \n1  (40.638983, -74.097422)  \n2  (40.801155, -73.959647)  \n3  (40.839882, -73.916783)  \n4  (40.839305, -73.936159)  "
                    },
                    "execution_count": 8,
                    "metadata": {},
                    "output_type": "execute_result"
                }
            ],
            "source": "# The code was removed by Watson Studio for sharing."
        },
        {
            "cell_type": "markdown",
            "metadata": {},
            "source": "## Farmers Markets and NYC Food Box Program\nA farmers' market is often defined as a public site used by two or more local or regional producers for the direct sale of farm products to consumers. In addition to fresh fruits and vegetables, markets may sell dairy products, fish, meat, baked goods, and other minimally processed foods.\n\nGrowNYC's Fresh Food Box Program (https://www.grownyc.org/greenmarketco/foodbox) is a food access initiative that enables under-served communities to purchase fresh, healthy, and primarily regionally grown produce well below traditional retail prices.\nSo we will filter farmers' market data and explore it."
        },
        {
            "cell_type": "code",
            "execution_count": null,
            "metadata": {},
            "outputs": [],
            "source": "FM_NYC.rename(columns={'Service Type':'Service_Type'}, inplace=True)\nprint(FM_NYC.Service_Type.unique())"
        },
        {
            "cell_type": "code",
            "execution_count": null,
            "metadata": {},
            "outputs": [],
            "source": "FM_NYC['Service_Type'].value_counts().to_frame()"
        },
        {
            "cell_type": "code",
            "execution_count": null,
            "metadata": {},
            "outputs": [],
            "source": "fig,ax = plt.subplots(1, 1, figsize=(5, 5))\nsns.countplot(x='Service_Type',data=FM_NYC)\nax.set_title(\"Service_Type\")\nfor t in ax.patches:\n    if (np.isnan(float(t.get_height()))):\n        ax.annotate('', (t.get_x(), 0))\n    else:\n        ax.annotate(str(format(int(t.get_height()), ',d')), (t.get_x(), t.get_height()*1.01))\n    \nplt.show();"
        },
        {
            "cell_type": "code",
            "execution_count": null,
            "metadata": {},
            "outputs": [],
            "source": "# FM_NYC_filtered - Dataset with only Farmers Market\nFM_NYC_filtered = FM_NYC[FM_NYC['Service_Type'] == 'Farmers Markets'].copy()\nFM_NYC_filtered ['Borough'] = FM_NYC_filtered['Borough'].map(lambda x: x.strip())\nprint(FM_NYC_filtered.shape)\nFM_NYC_filtered.head()"
        },
        {
            "cell_type": "code",
            "execution_count": null,
            "metadata": {},
            "outputs": [],
            "source": "fig,ax = plt.subplots(1, 1, figsize=(5, 5))\nsns.countplot(x='Borough',data=FM_NYC_filtered)\nax.set_title(\"Borough\")\nfor t in ax.patches:\n    if (np.isnan(float(t.get_height()))):\n        ax.annotate('', (t.get_x(), 0))\n    else:\n        ax.annotate(str(format(int(t.get_height()), ',d')), (t.get_x(), t.get_height()*1.01))\n        ax.set_xticklabels([t.get_text().split(\"T\")[0] for t in ax.get_xticklabels()])\n\n# This sets the yticks \"upright\" with 0, as opposed to sideways with 90.\nplt.xticks(rotation=90) \nplt.show()"
        },
        {
            "cell_type": "markdown",
            "metadata": {},
            "source": "### Use geopy library to get the latitude and longitude values of New York City"
        },
        {
            "cell_type": "code",
            "execution_count": null,
            "metadata": {},
            "outputs": [],
            "source": "address = 'New York City, NY'\n\ngeolocator = Nominatim(user_agent=\"Jupyter\")\nlocation = geolocator.geocode(address)\nlatitude = location.latitude\nlongitude = location.longitude\nprint('The geograpical coordinate of New York City are {}, {}.'.format(latitude, longitude))"
        },
        {
            "cell_type": "code",
            "execution_count": null,
            "metadata": {},
            "outputs": [],
            "source": "Create a map of New York with Facility name and Borough of Farmers Market superimposed on top"
        },
        {
            "cell_type": "code",
            "execution_count": null,
            "metadata": {},
            "outputs": [],
            "source": "\n# create map of New York City using latitude and longitude values\nmap_markets = folium.Map(location=[latitude, longitude], zoom_start=10)\n\n# add markers to map\nfor lat, lng, FacilityName, borough in zip(FM_NYC_filtered['Latitude'], FM_NYC_filtered['Longitude'], FM_NYC_filtered['FacilityName'], FM_NYC_filtered['Borough']):\n            label = '{}, {}'.format(FacilityName, borough)\n            label = folium.Popup(label, parse_html=True)\n            folium.CircleMarker(\n                [lat, lng],\n                radius=5,\n                popup=label,\n                color='green',\n                fill=True,\n                fill_color='green',\n                fill_opacity=0.7,\n                parse_html = False).add_to(map_markets)  \n\nmap_markets"
        },
        {
            "cell_type": "code",
            "execution_count": null,
            "metadata": {},
            "outputs": [],
            "source": ""
        }
    ],
    "metadata": {
        "kernelspec": {
            "display_name": "Python 3.6",
            "language": "python",
            "name": "python3"
        },
        "language_info": {
            "codemirror_mode": {
                "name": "ipython",
                "version": 3
            },
            "file_extension": ".py",
            "mimetype": "text/x-python",
            "name": "python",
            "nbconvert_exporter": "python",
            "pygments_lexer": "ipython3",
            "version": "3.6.9"
        }
    },
    "nbformat": 4,
    "nbformat_minor": 1
}